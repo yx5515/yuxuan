{
 "cells": [
  {
   "cell_type": "code",
   "execution_count": 4,
   "metadata": {},
   "outputs": [
    {
     "name": "stdout",
     "output_type": "stream",
     "text": [
      "正在下载文件: https://cdn.clinicaltrials.gov/large-docs/19/NCT02658019/Prot_SAP_000.pdf\n",
      "文件已保存到: ./downloads/Prot_SAP_000.pdf\n"
     ]
    }
   ],
   "source": [
    "from selenium import webdriver\n",
    "from selenium.webdriver.chrome.service import Service\n",
    "from selenium.webdriver.common.by import By\n",
    "from webdriver_manager.chrome import ChromeDriverManager\n",
    "import time\n",
    "import os\n",
    "import requests\n",
    "\n",
    "def scrape_with_selenium(url, save_directory):\n",
    "    # 设置 Chrome 浏览器\n",
    "    options = webdriver.ChromeOptions()\n",
    "    options.add_argument('--headless')  # 无头模式\n",
    "    options.add_argument('--disable-gpu')\n",
    "    options.add_argument('--no-sandbox')\n",
    "    \n",
    "    # 启动浏览器\n",
    "    service = Service(ChromeDriverManager().install())\n",
    "    driver = webdriver.Chrome(service=service, options=options)\n",
    "    driver.get(url)\n",
    "\n",
    "    # 等待页面加载（可视需要调整时间）\n",
    "    time.sleep(5)\n",
    "\n",
    "    # 查找 PDF 文件链接\n",
    "    links = driver.find_elements(By.TAG_NAME, \"a\")\n",
    "    pdf_links = [link.get_attribute('href') for link in links if link.get_attribute('href') and 'pdf' in link.get_attribute('href')]\n",
    "\n",
    "    driver.quit()  # 关闭浏览器\n",
    "\n",
    "    # 下载 PDF 文件\n",
    "    if pdf_links:\n",
    "        os.makedirs(save_directory, exist_ok=True)\n",
    "        for pdf_url in pdf_links:\n",
    "            file_name = pdf_url.split(\"/\")[-1]\n",
    "            save_path = os.path.join(save_directory, file_name)\n",
    "            \n",
    "            print(f\"正在下载文件: {pdf_url}\")\n",
    "            response = requests.get(pdf_url, stream=True)\n",
    "            with open(save_path, \"wb\") as file:\n",
    "                for chunk in response.iter_content(chunk_size=1024):\n",
    "                    file.write(chunk)\n",
    "            print(f\"文件已保存到: {save_path}\")\n",
    "    else:\n",
    "        print(\"未找到任何 PDF 文件链接。\")\n",
    "\n",
    "# 示例 URL 和保存路径\n",
    "study_url = \"https://clinicaltrials.gov/study/NCT02658019\"\n",
    "save_dir = \"./downloads\"\n",
    "\n",
    "scrape_with_selenium(study_url, save_dir)\n"
   ]
  }
 ],
 "metadata": {
  "kernelspec": {
   "display_name": "novartis",
   "language": "python",
   "name": "python3"
  },
  "language_info": {
   "codemirror_mode": {
    "name": "ipython",
    "version": 3
   },
   "file_extension": ".py",
   "mimetype": "text/x-python",
   "name": "python",
   "nbconvert_exporter": "python",
   "pygments_lexer": "ipython3",
   "version": "3.9.20"
  }
 },
 "nbformat": 4,
 "nbformat_minor": 2
}
